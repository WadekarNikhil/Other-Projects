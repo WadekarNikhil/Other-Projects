{
 "cells": [
  {
   "cell_type": "code",
   "execution_count": 1,
   "metadata": {},
   "outputs": [],
   "source": [
    "import requests\n",
    "import pandas as pd\n",
    "import datetime "
   ]
  },
  {
   "cell_type": "code",
   "execution_count": 2,
   "metadata": {},
   "outputs": [],
   "source": [
    "api_key ='d79cb0701680d9cf9f57f15112d44c02'"
   ]
  },
  {
   "cell_type": "code",
   "execution_count": 3,
   "metadata": {},
   "outputs": [],
   "source": [
    "columns=[\"CN\"]\n",
    "data=pd.read_csv(\"cityname.csv\",names=columns,encoding='unicode_escape')\n",
    "city=data.CN.to_list()"
   ]
  },
  {
   "cell_type": "code",
   "execution_count": 4,
   "metadata": {},
   "outputs": [],
   "source": [
    "\n",
    "\n",
    "#city's coordinates(Lat & loi=0\n",
    "L=[]\n",
    "j=0\n",
    "while j < len(city):\n",
    "   \n",
    "\n",
    "    url=f'https://api.openweathermap.org/data/2.5/weather?q={city[j]}&appid={api_key}'\n",
    "#parse the Json\n",
    "    req= requests.get(url)\n",
    "    data=req.json()\n",
    " \n",
    "\n",
    "    name=data['name']\n",
    "    lon=data['coord']['lon']\n",
    "    lat=data['coord']['lat']\n",
    "\n",
    "#use the one call Api to get the 8 day forecast\n",
    "    part=\"minute,hourly\"\n",
    "    url2=f'https://api.openweathermap.org/data/2.5/onecall?lat={lat}&lon={lon}&exclude={part}&appid={api_key}'\n",
    "\n",
    "#parse the json\n",
    "    req2=requests.get(url2)\n",
    "    data2=req2.json()\n",
    "\n",
    "#print(data2)\n",
    "\n",
    "#get the temp for the day,the night and the weather conditions\n",
    "    days = []\n",
    "    nights=[]\n",
    "    descr=[]\n",
    "\n",
    "#access 'daily'\n",
    "    for i in data2['daily']:\n",
    "    #here the temperature is in kelvin,so do -273.15 for every datapoint\n",
    "        days.append(round(i['temp']['day']-273.15,2))\n",
    "        nights.append(round(i['temp']['night'] -273.15,2))\n",
    "    \n",
    "    #get the weather conditions and description\n",
    "    #'weather' [0] 'main'+ 'weather'[0] 'description'\n",
    "        descr.append(i['weather'][0]['main'] + \": \" +i['weather'][0]['description'])\n",
    "   \n",
    " #format output to makr it readable\n",
    "    string=f'[{name} - 8 days forecast]\\n'\n",
    "#loop for as much  days as there are\n",
    "    for i in range(len(days)):\n",
    "    \n",
    "        if i==0:\n",
    "            string+=f'\\nDay{i+1} (Today)\\n'\n",
    "        elif i==1:\n",
    "            string+=f'\\nDay{i+1}(Tomorrow)\\n'\n",
    "        else: \n",
    "            string+=f'\\nDay {i+1}\\n'\n",
    "    #now let's add that to the temperature and the weather conditions\n",
    "        string += 'Morning:'+str(days[i]) + '°C' +\"\\n\"\n",
    "        string += 'night:' +str(nights[i]) + '°C' + \"\\n\"\n",
    "        string += 'conditions:' +descr[i] + \"\\n\"\n",
    "        \n",
    "        \n",
    "    C1=[city[j]]\n",
    "    ci = C1*8\n",
    "    lis=[ci,days,nights,descr]\n",
    "    L.append(lis)\n",
    "    j=j+1\n",
    "     "
   ]
  },
  {
   "cell_type": "code",
   "execution_count": 5,
   "metadata": {},
   "outputs": [],
   "source": [
    "from datetime import date,timedelta\n",
    "d=date.today()\n",
    "d1=date.today()+timedelta(1)\n",
    "d2=date.today()+timedelta(2)\n",
    "d3=date.today()+timedelta(3)\n",
    "d4=date.today()+timedelta(4)\n",
    "d5=date.today()+timedelta(5)\n",
    "d6=date.today()+timedelta(6)\n",
    "d7=date.today()+timedelta(7)\n",
    "time=[d.strftime('%d-%m-%Y'),d1.strftime('%d-%m-%Y'),d2.strftime('%d-%m-%Y'),d3.strftime('%d-%m-%Y'),d4.strftime('%d-%m-%Y'),d5.strftime('%d-%m-%Y'),d6.strftime('%d-%m-%Y'),d7.strftime('%d-%m-%Y')]\n"
   ]
  },
  {
   "cell_type": "code",
   "execution_count": 7,
   "metadata": {},
   "outputs": [],
   "source": [
    "new_L=[]\n",
    "k=0\n",
    "while k < len(L):\n",
    "    df=pd.DataFrame(L[k],columns=time,index=['city','Day','night','condition'])\n",
    "    df1=df.T\n",
    "    N=pd.DataFrame(df1)\n",
    "    new_L.append(N)\n",
    "    k=k+1\n",
    "New_df=pd.concat(new_L)"
   ]
  },
  {
   "cell_type": "code",
   "execution_count": 8,
   "metadata": {},
   "outputs": [],
   "source": [
    "New_df.to_csv(\"MForecast.csv\")"
   ]
  },
  {
   "cell_type": "code",
   "execution_count": null,
   "metadata": {},
   "outputs": [],
   "source": []
  },
  {
   "cell_type": "code",
   "execution_count": null,
   "metadata": {},
   "outputs": [],
   "source": [
    "\n",
    "    \n",
    "    "
   ]
  },
  {
   "cell_type": "code",
   "execution_count": null,
   "metadata": {},
   "outputs": [],
   "source": []
  },
  {
   "cell_type": "code",
   "execution_count": null,
   "metadata": {},
   "outputs": [],
   "source": []
  },
  {
   "cell_type": "code",
   "execution_count": null,
   "metadata": {},
   "outputs": [],
   "source": []
  },
  {
   "cell_type": "code",
   "execution_count": null,
   "metadata": {},
   "outputs": [],
   "source": []
  },
  {
   "cell_type": "code",
   "execution_count": null,
   "metadata": {},
   "outputs": [],
   "source": []
  },
  {
   "cell_type": "code",
   "execution_count": null,
   "metadata": {},
   "outputs": [],
   "source": []
  }
 ],
 "metadata": {
  "kernelspec": {
   "display_name": "Python 3",
   "language": "python",
   "name": "python3"
  },
  "language_info": {
   "codemirror_mode": {
    "name": "ipython",
    "version": 3
   },
   "file_extension": ".py",
   "mimetype": "text/x-python",
   "name": "python",
   "nbconvert_exporter": "python",
   "pygments_lexer": "ipython3",
   "version": "3.8.5"
  }
 },
 "nbformat": 4,
 "nbformat_minor": 4
}
