{
 "cells": [
  {
   "cell_type": "code",
   "execution_count": 1,
   "metadata": {},
   "outputs": [],
   "source": [
    "import requests\n",
    "import pandas as pd"
   ]
  },
  {
   "cell_type": "code",
   "execution_count": 2,
   "metadata": {},
   "outputs": [],
   "source": [
    "api_key ='d79cb0701680d9cf9f57f15112d44c02'"
   ]
  },
  {
   "cell_type": "code",
   "execution_count": 32,
   "metadata": {},
   "outputs": [
    {
     "name": "stdout",
     "output_type": "stream",
     "text": [
      "Enter city namemumbai\n",
      "[Mumbai - 8 days forecast]\n",
      "\n",
      "Day1 (Today)\n",
      "Morning:29.64°C\n",
      "night:26.63°C\n",
      "conditions:Clouds: scattered clouds\n",
      "\n",
      "Day2(Tomorrow)\n",
      "Morning:27.21°C\n",
      "night:26.38°C\n",
      "conditions:Clouds: broken clouds\n",
      "\n",
      "Day 3\n",
      "Morning:27.12°C\n",
      "night:26.13°C\n",
      "conditions:Clouds: overcast clouds\n",
      "\n",
      "Day 4\n",
      "Morning:27.1°C\n",
      "night:25.71°C\n",
      "conditions:Clouds: broken clouds\n",
      "\n",
      "Day 5\n",
      "Morning:26.22°C\n",
      "night:25.04°C\n",
      "conditions:Clouds: few clouds\n",
      "\n",
      "Day 6\n",
      "Morning:26.17°C\n",
      "night:25.98°C\n",
      "conditions:Clear: clear sky\n",
      "\n",
      "Day 7\n",
      "Morning:26.49°C\n",
      "night:25.89°C\n",
      "conditions:Clear: clear sky\n",
      "\n",
      "Day 8\n",
      "Morning:26.28°C\n",
      "night:25.48°C\n",
      "conditions:Clear: clear sky\n",
      "\n"
     ]
    }
   ],
   "source": [
    "city_name = input(\"Enter city name\")\n",
    "\n",
    "#city's coordinates(Lat & lon)\n",
    "url=f'https://api.openweathermap.org/data/2.5/weather?q={city_name}&appid={api_key}'\n",
    "#parse the Json\n",
    "req= requests.get(url)\n",
    "data=req.json()\n",
    "\n",
    "\n",
    "\n",
    "#get the name, longitude and latitude\n",
    "name=data['name']\n",
    "lon=data['coord']['lon']\n",
    "lat=data['coord']['lat']\n",
    "\n",
    "#use the one call Api to get the 8 day forecast\n",
    "part=\"minute,hourly\"\n",
    "url2=f'https://api.openweathermap.org/data/2.5/onecall?lat={lat}&lon={lon}&exclude={part}&appid={api_key}'\n",
    "\n",
    "#parse the json\n",
    "req2=requests.get(url2)\n",
    "data2=req2.json()\n",
    "\n",
    "#print(data2)\n",
    "\n",
    "#get the temp for the day,the night and the weather conditions\n",
    "days = []\n",
    "nights=[]\n",
    "descr=[]\n",
    "\n",
    "#access 'daily'\n",
    "for i in data2['daily']:\n",
    "    #here the temperature is in kelvin,so do -273.15 for every datapoint\n",
    "    days.append(round(i['temp']['day']-273.15,2))\n",
    "    nights.append(round(i['temp']['night'] -273.15,2))\n",
    "    \n",
    "    #get the weather conditions and description\n",
    "    #'weather' [0] 'main'+ 'weather'[0] 'description'\n",
    "    descr.append(i['weather'][0]['main'] + \": \" +i['weather'][0]['description'])\n",
    "   \n",
    " #format output to makr it readable\n",
    "string=f'[{name} - 8 days forecast]\\n'\n",
    "#loop for as much  days as there are\n",
    "for i in range(len(days)):\n",
    "    \n",
    "    if i==0:\n",
    "        string+=f'\\nDay{i+1} (Today)\\n'\n",
    "    elif i==1:\n",
    "        string+=f'\\nDay{i+1}(Tomorrow)\\n'\n",
    "    else: \n",
    "        string+=f'\\nDay {i+1}\\n'\n",
    "    #now let's add that to the temperature and the weather conditions\n",
    "    string += 'Morning:'+str(days[i]) + '°C' +\"\\n\"\n",
    "    string += 'night:' +str(nights[i]) + '°C' + \"\\n\"\n",
    "    string += 'conditions:' +descr[i] + \"\\n\"\n",
    "\n",
    "    \n",
    "print(string)"
   ]
  },
  {
   "cell_type": "code",
   "execution_count": null,
   "metadata": {},
   "outputs": [],
   "source": []
  },
  {
   "cell_type": "code",
   "execution_count": null,
   "metadata": {},
   "outputs": [],
   "source": []
  },
  {
   "cell_type": "code",
   "execution_count": 112,
   "metadata": {},
   "outputs": [
    {
     "name": "stdout",
     "output_type": "stream",
     "text": [
      "[['Mumbai', 'Mumbai', 'Mumbai', 'Mumbai', 'Mumbai', 'Mumbai', 'Mumbai', 'Mumbai'], [29.64, 27.21, 27.12, 27.1, 26.22, 26.17, 26.49, 26.28], [26.63, 26.38, 26.13, 25.71, 25.04, 25.98, 25.89, 25.48], ['Clouds: scattered clouds', 'Clouds: broken clouds', 'Clouds: overcast clouds', 'Clouds: broken clouds', 'Clouds: few clouds', 'Clear: clear sky', 'Clear: clear sky', 'Clear: clear sky']]\n"
     ]
    },
    {
     "data": {
      "text/html": [
       "<div>\n",
       "<style scoped>\n",
       "    .dataframe tbody tr th:only-of-type {\n",
       "        vertical-align: middle;\n",
       "    }\n",
       "\n",
       "    .dataframe tbody tr th {\n",
       "        vertical-align: top;\n",
       "    }\n",
       "\n",
       "    .dataframe thead th {\n",
       "        text-align: right;\n",
       "    }\n",
       "</style>\n",
       "<table border=\"1\" class=\"dataframe\">\n",
       "  <thead>\n",
       "    <tr style=\"text-align: right;\">\n",
       "      <th></th>\n",
       "      <th>city</th>\n",
       "      <th>morning</th>\n",
       "      <th>Night</th>\n",
       "      <th>conditions</th>\n",
       "    </tr>\n",
       "  </thead>\n",
       "  <tbody>\n",
       "    <tr>\n",
       "      <th>2021-12-13</th>\n",
       "      <td>Mumbai</td>\n",
       "      <td>29.64</td>\n",
       "      <td>26.63</td>\n",
       "      <td>Clouds: scattered clouds</td>\n",
       "    </tr>\n",
       "    <tr>\n",
       "      <th>2021-12-14 15:58:55.651701</th>\n",
       "      <td>Mumbai</td>\n",
       "      <td>27.21</td>\n",
       "      <td>26.38</td>\n",
       "      <td>Clouds: broken clouds</td>\n",
       "    </tr>\n",
       "    <tr>\n",
       "      <th>2021-12-15 15:58:55.651701</th>\n",
       "      <td>Mumbai</td>\n",
       "      <td>27.12</td>\n",
       "      <td>26.13</td>\n",
       "      <td>Clouds: overcast clouds</td>\n",
       "    </tr>\n",
       "    <tr>\n",
       "      <th>2021-12-16 15:58:55.651701</th>\n",
       "      <td>Mumbai</td>\n",
       "      <td>27.1</td>\n",
       "      <td>25.71</td>\n",
       "      <td>Clouds: broken clouds</td>\n",
       "    </tr>\n",
       "    <tr>\n",
       "      <th>2021-12-17 15:58:55.651701</th>\n",
       "      <td>Mumbai</td>\n",
       "      <td>26.22</td>\n",
       "      <td>25.04</td>\n",
       "      <td>Clouds: few clouds</td>\n",
       "    </tr>\n",
       "    <tr>\n",
       "      <th>2021-12-18 15:58:55.651701</th>\n",
       "      <td>Mumbai</td>\n",
       "      <td>26.17</td>\n",
       "      <td>25.98</td>\n",
       "      <td>Clear: clear sky</td>\n",
       "    </tr>\n",
       "    <tr>\n",
       "      <th>2021-12-19 15:58:55.651701</th>\n",
       "      <td>Mumbai</td>\n",
       "      <td>26.49</td>\n",
       "      <td>25.89</td>\n",
       "      <td>Clear: clear sky</td>\n",
       "    </tr>\n",
       "    <tr>\n",
       "      <th>2021-12-20 15:58:55.651701</th>\n",
       "      <td>Mumbai</td>\n",
       "      <td>26.28</td>\n",
       "      <td>25.48</td>\n",
       "      <td>Clear: clear sky</td>\n",
       "    </tr>\n",
       "  </tbody>\n",
       "</table>\n",
       "</div>"
      ],
      "text/plain": [
       "                              city morning  Night                conditions\n",
       "2021-12-13                  Mumbai   29.64  26.63  Clouds: scattered clouds\n",
       "2021-12-14 15:58:55.651701  Mumbai   27.21  26.38     Clouds: broken clouds\n",
       "2021-12-15 15:58:55.651701  Mumbai   27.12  26.13   Clouds: overcast clouds\n",
       "2021-12-16 15:58:55.651701  Mumbai    27.1  25.71     Clouds: broken clouds\n",
       "2021-12-17 15:58:55.651701  Mumbai   26.22  25.04        Clouds: few clouds\n",
       "2021-12-18 15:58:55.651701  Mumbai   26.17  25.98          Clear: clear sky\n",
       "2021-12-19 15:58:55.651701  Mumbai   26.49  25.89          Clear: clear sky\n",
       "2021-12-20 15:58:55.651701  Mumbai   26.28  25.48          Clear: clear sky"
      ]
     },
     "execution_count": 112,
     "metadata": {},
     "output_type": "execute_result"
    }
   ],
   "source": [
    "city=[name,name,name,name,name,name,name,name]\n",
    "list1=[city,days,nights,descr]\n",
    "import datetime \n",
    "print(list1)\n",
    "data1=pd.DataFrame(list1,columns=[date.today(),datetime.datetime.today()+datetime.timedelta(days=1),datetime.datetime.today()+datetime.timedelta(days=2),datetime.datetime.today()+datetime.timedelta(days=3),datetime.datetime.today()+datetime.timedelta(days=4),datetime.datetime.today()+datetime.timedelta(days=5),datetime.datetime.today()+datetime.timedelta(days=6),datetime.datetime.today()+datetime.timedelta(days=7),],index=['city','morning','Night','conditions',])\n",
    "\n",
    "data2=data1.T\n",
    "data2"
   ]
  },
  {
   "cell_type": "code",
   "execution_count": null,
   "metadata": {},
   "outputs": [],
   "source": [
    "\n"
   ]
  },
  {
   "cell_type": "code",
   "execution_count": 113,
   "metadata": {},
   "outputs": [],
   "source": [
    "data2.to_csv('forecast2.csv')"
   ]
  },
  {
   "cell_type": "code",
   "execution_count": null,
   "metadata": {},
   "outputs": [],
   "source": []
  },
  {
   "cell_type": "code",
   "execution_count": null,
   "metadata": {},
   "outputs": [],
   "source": []
  },
  {
   "cell_type": "code",
   "execution_count": null,
   "metadata": {},
   "outputs": [],
   "source": []
  },
  {
   "cell_type": "code",
   "execution_count": null,
   "metadata": {},
   "outputs": [],
   "source": []
  },
  {
   "cell_type": "code",
   "execution_count": null,
   "metadata": {},
   "outputs": [],
   "source": []
  },
  {
   "cell_type": "code",
   "execution_count": null,
   "metadata": {},
   "outputs": [],
   "source": []
  }
 ],
 "metadata": {
  "kernelspec": {
   "display_name": "Python 3",
   "language": "python",
   "name": "python3"
  },
  "language_info": {
   "codemirror_mode": {
    "name": "ipython",
    "version": 3
   },
   "file_extension": ".py",
   "mimetype": "text/x-python",
   "name": "python",
   "nbconvert_exporter": "python",
   "pygments_lexer": "ipython3",
   "version": "3.8.5"
  }
 },
 "nbformat": 4,
 "nbformat_minor": 4
}
