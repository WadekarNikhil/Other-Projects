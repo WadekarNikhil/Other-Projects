{
 "cells": [
  {
   "cell_type": "code",
   "execution_count": 1,
   "metadata": {},
   "outputs": [],
   "source": [
    "import pandas as pd\n",
    "import sqlite3\n",
    "import seaborn as sns\n",
    "import matplotlib.pyplot as plt\n",
    "import requests"
   ]
  },
  {
   "cell_type": "code",
   "execution_count": 2,
   "metadata": {},
   "outputs": [],
   "source": [
    "url=f'https://imdb-api.com/en/API/Top250Movies/k_2807aivr'\n",
    "req= requests.get(url)\n",
    "data=req.json()\n",
    "data1=data['items']   \n",
    "D=pd.DataFrame.from_dict(data1,orient='columns')\n",
    "\n",
    "    "
   ]
  },
  {
   "cell_type": "code",
   "execution_count": 3,
   "metadata": {
    "scrolled": false
   },
   "outputs": [
    {
     "data": {
      "text/plain": [
       "id                 object\n",
       "rank               object\n",
       "title              object\n",
       "fullTitle          object\n",
       "year               object\n",
       "image              object\n",
       "crew               object\n",
       "imDbRating         object\n",
       "imDbRatingCount    object\n",
       "dtype: object"
      ]
     },
     "execution_count": 3,
     "metadata": {},
     "output_type": "execute_result"
    }
   ],
   "source": [
    "D.dtypes"
   ]
  },
  {
   "cell_type": "code",
   "execution_count": 4,
   "metadata": {},
   "outputs": [],
   "source": [
    "cnn=sqlite3.connect('movie.db')"
   ]
  },
  {
   "cell_type": "code",
   "execution_count": null,
   "metadata": {},
   "outputs": [],
   "source": [
    "D.to_sql('top_movies',cnn)"
   ]
  },
  {
   "cell_type": "code",
   "execution_count": 6,
   "metadata": {},
   "outputs": [],
   "source": [
    "cur=cnn.cursor()\n",
    "rows=cur.execute(\"SELECT * FROM top_movies\").fetchall()"
   ]
  },
  {
   "cell_type": "code",
   "execution_count": 7,
   "metadata": {},
   "outputs": [],
   "source": [
    "movie=pd.DataFrame(rows)\n",
    "movie.columns=['sr.No.','id','rank','title','fullTitle','year','image','crew','imDbRating','imDbRatingCount']\n",
    "movie=movie.set_index('sr.No.')"
   ]
  },
  {
   "cell_type": "code",
   "execution_count": 8,
   "metadata": {},
   "outputs": [
    {
     "data": {
      "text/html": [
       "<div>\n",
       "<style scoped>\n",
       "    .dataframe tbody tr th:only-of-type {\n",
       "        vertical-align: middle;\n",
       "    }\n",
       "\n",
       "    .dataframe tbody tr th {\n",
       "        vertical-align: top;\n",
       "    }\n",
       "\n",
       "    .dataframe thead th {\n",
       "        text-align: right;\n",
       "    }\n",
       "</style>\n",
       "<table border=\"1\" class=\"dataframe\">\n",
       "  <thead>\n",
       "    <tr style=\"text-align: right;\">\n",
       "      <th></th>\n",
       "      <th>id</th>\n",
       "      <th>rank</th>\n",
       "      <th>title</th>\n",
       "      <th>fullTitle</th>\n",
       "      <th>year</th>\n",
       "      <th>image</th>\n",
       "      <th>crew</th>\n",
       "      <th>imDbRating</th>\n",
       "      <th>imDbRatingCount</th>\n",
       "    </tr>\n",
       "    <tr>\n",
       "      <th>sr.No.</th>\n",
       "      <th></th>\n",
       "      <th></th>\n",
       "      <th></th>\n",
       "      <th></th>\n",
       "      <th></th>\n",
       "      <th></th>\n",
       "      <th></th>\n",
       "      <th></th>\n",
       "      <th></th>\n",
       "    </tr>\n",
       "  </thead>\n",
       "  <tbody>\n",
       "    <tr>\n",
       "      <th>0</th>\n",
       "      <td>tt0111161</td>\n",
       "      <td>1</td>\n",
       "      <td>The Shawshank Redemption</td>\n",
       "      <td>The Shawshank Redemption (1994)</td>\n",
       "      <td>1994</td>\n",
       "      <td>https://m.media-amazon.com/images/M/MV5BMDFkYT...</td>\n",
       "      <td>Frank Darabont (dir.), Tim Robbins, Morgan Fre...</td>\n",
       "      <td>9.2</td>\n",
       "      <td>2519164</td>\n",
       "    </tr>\n",
       "    <tr>\n",
       "      <th>1</th>\n",
       "      <td>tt0068646</td>\n",
       "      <td>2</td>\n",
       "      <td>The Godfather</td>\n",
       "      <td>The Godfather (1972)</td>\n",
       "      <td>1972</td>\n",
       "      <td>https://m.media-amazon.com/images/M/MV5BM2MyNj...</td>\n",
       "      <td>Francis Ford Coppola (dir.), Marlon Brando, Al...</td>\n",
       "      <td>9.1</td>\n",
       "      <td>1734694</td>\n",
       "    </tr>\n",
       "    <tr>\n",
       "      <th>2</th>\n",
       "      <td>tt0071562</td>\n",
       "      <td>3</td>\n",
       "      <td>The Godfather: Part II</td>\n",
       "      <td>The Godfather: Part II (1974)</td>\n",
       "      <td>1974</td>\n",
       "      <td>https://m.media-amazon.com/images/M/MV5BMWMwMG...</td>\n",
       "      <td>Francis Ford Coppola (dir.), Al Pacino, Robert...</td>\n",
       "      <td>9.0</td>\n",
       "      <td>1203735</td>\n",
       "    </tr>\n",
       "    <tr>\n",
       "      <th>3</th>\n",
       "      <td>tt0468569</td>\n",
       "      <td>4</td>\n",
       "      <td>The Dark Knight</td>\n",
       "      <td>The Dark Knight (2008)</td>\n",
       "      <td>2008</td>\n",
       "      <td>https://m.media-amazon.com/images/M/MV5BMTMxNT...</td>\n",
       "      <td>Christopher Nolan (dir.), Christian Bale, Heat...</td>\n",
       "      <td>9.0</td>\n",
       "      <td>2469478</td>\n",
       "    </tr>\n",
       "    <tr>\n",
       "      <th>4</th>\n",
       "      <td>tt0050083</td>\n",
       "      <td>5</td>\n",
       "      <td>12 Angry Men</td>\n",
       "      <td>12 Angry Men (1957)</td>\n",
       "      <td>1957</td>\n",
       "      <td>https://m.media-amazon.com/images/M/MV5BMWU4N2...</td>\n",
       "      <td>Sidney Lumet (dir.), Henry Fonda, Lee J. Cobb</td>\n",
       "      <td>8.9</td>\n",
       "      <td>743961</td>\n",
       "    </tr>\n",
       "    <tr>\n",
       "      <th>...</th>\n",
       "      <td>...</td>\n",
       "      <td>...</td>\n",
       "      <td>...</td>\n",
       "      <td>...</td>\n",
       "      <td>...</td>\n",
       "      <td>...</td>\n",
       "      <td>...</td>\n",
       "      <td>...</td>\n",
       "      <td>...</td>\n",
       "    </tr>\n",
       "    <tr>\n",
       "      <th>245</th>\n",
       "      <td>tt0058946</td>\n",
       "      <td>246</td>\n",
       "      <td>The Battle of Algiers</td>\n",
       "      <td>The Battle of Algiers (1966)</td>\n",
       "      <td>1966</td>\n",
       "      <td>https://m.media-amazon.com/images/M/MV5BZWEzMG...</td>\n",
       "      <td>Gillo Pontecorvo (dir.), Brahim Hadjadj, Jean ...</td>\n",
       "      <td>8.0</td>\n",
       "      <td>57800</td>\n",
       "    </tr>\n",
       "    <tr>\n",
       "      <th>246</th>\n",
       "      <td>tt0050783</td>\n",
       "      <td>247</td>\n",
       "      <td>Nights of Cabiria</td>\n",
       "      <td>Nights of Cabiria (1957)</td>\n",
       "      <td>1957</td>\n",
       "      <td>https://m.media-amazon.com/images/M/MV5BOTdhNm...</td>\n",
       "      <td>Federico Fellini (dir.), Giulietta Masina, Fra...</td>\n",
       "      <td>8.0</td>\n",
       "      <td>47100</td>\n",
       "    </tr>\n",
       "    <tr>\n",
       "      <th>247</th>\n",
       "      <td>tt0093779</td>\n",
       "      <td>248</td>\n",
       "      <td>The Princess Bride</td>\n",
       "      <td>The Princess Bride (1987)</td>\n",
       "      <td>1987</td>\n",
       "      <td>https://m.media-amazon.com/images/M/MV5BMGM4M2...</td>\n",
       "      <td>Rob Reiner (dir.), Cary Elwes, Mandy Patinkin</td>\n",
       "      <td>8.0</td>\n",
       "      <td>414984</td>\n",
       "    </tr>\n",
       "    <tr>\n",
       "      <th>248</th>\n",
       "      <td>tt0087884</td>\n",
       "      <td>249</td>\n",
       "      <td>Paris, Texas</td>\n",
       "      <td>Paris, Texas (1984)</td>\n",
       "      <td>1984</td>\n",
       "      <td>https://m.media-amazon.com/images/M/MV5BM2RjMm...</td>\n",
       "      <td>Wim Wenders (dir.), Harry Dean Stanton, Nastas...</td>\n",
       "      <td>8.0</td>\n",
       "      <td>101500</td>\n",
       "    </tr>\n",
       "    <tr>\n",
       "      <th>249</th>\n",
       "      <td>tt12361178</td>\n",
       "      <td>250</td>\n",
       "      <td>Drishyam 2</td>\n",
       "      <td>Drishyam 2 (2021)</td>\n",
       "      <td>2021</td>\n",
       "      <td>https://m.media-amazon.com/images/M/MV5BM2RiZD...</td>\n",
       "      <td>Jeethu Joseph (dir.), Mohanlal, Meena</td>\n",
       "      <td>8.0</td>\n",
       "      <td>33028</td>\n",
       "    </tr>\n",
       "  </tbody>\n",
       "</table>\n",
       "<p>250 rows × 9 columns</p>\n",
       "</div>"
      ],
      "text/plain": [
       "                id rank                     title  \\\n",
       "sr.No.                                              \n",
       "0        tt0111161    1  The Shawshank Redemption   \n",
       "1        tt0068646    2             The Godfather   \n",
       "2        tt0071562    3    The Godfather: Part II   \n",
       "3        tt0468569    4           The Dark Knight   \n",
       "4        tt0050083    5              12 Angry Men   \n",
       "...            ...  ...                       ...   \n",
       "245      tt0058946  246     The Battle of Algiers   \n",
       "246      tt0050783  247         Nights of Cabiria   \n",
       "247      tt0093779  248        The Princess Bride   \n",
       "248      tt0087884  249              Paris, Texas   \n",
       "249     tt12361178  250                Drishyam 2   \n",
       "\n",
       "                              fullTitle  year  \\\n",
       "sr.No.                                          \n",
       "0       The Shawshank Redemption (1994)  1994   \n",
       "1                  The Godfather (1972)  1972   \n",
       "2         The Godfather: Part II (1974)  1974   \n",
       "3                The Dark Knight (2008)  2008   \n",
       "4                   12 Angry Men (1957)  1957   \n",
       "...                                 ...   ...   \n",
       "245        The Battle of Algiers (1966)  1966   \n",
       "246            Nights of Cabiria (1957)  1957   \n",
       "247           The Princess Bride (1987)  1987   \n",
       "248                 Paris, Texas (1984)  1984   \n",
       "249                   Drishyam 2 (2021)  2021   \n",
       "\n",
       "                                                    image  \\\n",
       "sr.No.                                                      \n",
       "0       https://m.media-amazon.com/images/M/MV5BMDFkYT...   \n",
       "1       https://m.media-amazon.com/images/M/MV5BM2MyNj...   \n",
       "2       https://m.media-amazon.com/images/M/MV5BMWMwMG...   \n",
       "3       https://m.media-amazon.com/images/M/MV5BMTMxNT...   \n",
       "4       https://m.media-amazon.com/images/M/MV5BMWU4N2...   \n",
       "...                                                   ...   \n",
       "245     https://m.media-amazon.com/images/M/MV5BZWEzMG...   \n",
       "246     https://m.media-amazon.com/images/M/MV5BOTdhNm...   \n",
       "247     https://m.media-amazon.com/images/M/MV5BMGM4M2...   \n",
       "248     https://m.media-amazon.com/images/M/MV5BM2RjMm...   \n",
       "249     https://m.media-amazon.com/images/M/MV5BM2RiZD...   \n",
       "\n",
       "                                                     crew imDbRating  \\\n",
       "sr.No.                                                                 \n",
       "0       Frank Darabont (dir.), Tim Robbins, Morgan Fre...        9.2   \n",
       "1       Francis Ford Coppola (dir.), Marlon Brando, Al...        9.1   \n",
       "2       Francis Ford Coppola (dir.), Al Pacino, Robert...        9.0   \n",
       "3       Christopher Nolan (dir.), Christian Bale, Heat...        9.0   \n",
       "4           Sidney Lumet (dir.), Henry Fonda, Lee J. Cobb        8.9   \n",
       "...                                                   ...        ...   \n",
       "245     Gillo Pontecorvo (dir.), Brahim Hadjadj, Jean ...        8.0   \n",
       "246     Federico Fellini (dir.), Giulietta Masina, Fra...        8.0   \n",
       "247         Rob Reiner (dir.), Cary Elwes, Mandy Patinkin        8.0   \n",
       "248     Wim Wenders (dir.), Harry Dean Stanton, Nastas...        8.0   \n",
       "249                 Jeethu Joseph (dir.), Mohanlal, Meena        8.0   \n",
       "\n",
       "       imDbRatingCount  \n",
       "sr.No.                  \n",
       "0              2519164  \n",
       "1              1734694  \n",
       "2              1203735  \n",
       "3              2469478  \n",
       "4               743961  \n",
       "...                ...  \n",
       "245              57800  \n",
       "246              47100  \n",
       "247             414984  \n",
       "248             101500  \n",
       "249              33028  \n",
       "\n",
       "[250 rows x 9 columns]"
      ]
     },
     "execution_count": 8,
     "metadata": {},
     "output_type": "execute_result"
    }
   ],
   "source": [
    "movie"
   ]
  },
  {
   "cell_type": "code",
   "execution_count": 9,
   "metadata": {},
   "outputs": [
    {
     "data": {
      "text/html": [
       "<div>\n",
       "<style scoped>\n",
       "    .dataframe tbody tr th:only-of-type {\n",
       "        vertical-align: middle;\n",
       "    }\n",
       "\n",
       "    .dataframe tbody tr th {\n",
       "        vertical-align: top;\n",
       "    }\n",
       "\n",
       "    .dataframe thead th {\n",
       "        text-align: right;\n",
       "    }\n",
       "</style>\n",
       "<table border=\"1\" class=\"dataframe\">\n",
       "  <thead>\n",
       "    <tr style=\"text-align: right;\">\n",
       "      <th></th>\n",
       "      <th>id</th>\n",
       "      <th>rank</th>\n",
       "      <th>title</th>\n",
       "      <th>fullTitle</th>\n",
       "      <th>year</th>\n",
       "      <th>image</th>\n",
       "      <th>crew</th>\n",
       "      <th>imDbRating</th>\n",
       "      <th>imDbRatingCount</th>\n",
       "    </tr>\n",
       "    <tr>\n",
       "      <th>sr.No.</th>\n",
       "      <th></th>\n",
       "      <th></th>\n",
       "      <th></th>\n",
       "      <th></th>\n",
       "      <th></th>\n",
       "      <th></th>\n",
       "      <th></th>\n",
       "      <th></th>\n",
       "      <th></th>\n",
       "    </tr>\n",
       "  </thead>\n",
       "  <tbody>\n",
       "    <tr>\n",
       "      <th>0</th>\n",
       "      <td>tt0111161</td>\n",
       "      <td>1</td>\n",
       "      <td>The Shawshank Redemption</td>\n",
       "      <td>The Shawshank Redemption (1994)</td>\n",
       "      <td>1994</td>\n",
       "      <td>https://m.media-amazon.com/images/M/MV5BMDFkYT...</td>\n",
       "      <td>Frank Darabont (dir.), Tim Robbins, Morgan Fre...</td>\n",
       "      <td>9.2</td>\n",
       "      <td>2519164</td>\n",
       "    </tr>\n",
       "    <tr>\n",
       "      <th>1</th>\n",
       "      <td>tt0068646</td>\n",
       "      <td>2</td>\n",
       "      <td>The Godfather</td>\n",
       "      <td>The Godfather (1972)</td>\n",
       "      <td>1972</td>\n",
       "      <td>https://m.media-amazon.com/images/M/MV5BM2MyNj...</td>\n",
       "      <td>Francis Ford Coppola (dir.), Marlon Brando, Al...</td>\n",
       "      <td>9.1</td>\n",
       "      <td>1734694</td>\n",
       "    </tr>\n",
       "    <tr>\n",
       "      <th>2</th>\n",
       "      <td>tt0071562</td>\n",
       "      <td>3</td>\n",
       "      <td>The Godfather: Part II</td>\n",
       "      <td>The Godfather: Part II (1974)</td>\n",
       "      <td>1974</td>\n",
       "      <td>https://m.media-amazon.com/images/M/MV5BMWMwMG...</td>\n",
       "      <td>Francis Ford Coppola (dir.), Al Pacino, Robert...</td>\n",
       "      <td>9.0</td>\n",
       "      <td>1203735</td>\n",
       "    </tr>\n",
       "    <tr>\n",
       "      <th>3</th>\n",
       "      <td>tt0468569</td>\n",
       "      <td>4</td>\n",
       "      <td>The Dark Knight</td>\n",
       "      <td>The Dark Knight (2008)</td>\n",
       "      <td>2008</td>\n",
       "      <td>https://m.media-amazon.com/images/M/MV5BMTMxNT...</td>\n",
       "      <td>Christopher Nolan (dir.), Christian Bale, Heat...</td>\n",
       "      <td>9.0</td>\n",
       "      <td>2469478</td>\n",
       "    </tr>\n",
       "    <tr>\n",
       "      <th>4</th>\n",
       "      <td>tt0050083</td>\n",
       "      <td>5</td>\n",
       "      <td>12 Angry Men</td>\n",
       "      <td>12 Angry Men (1957)</td>\n",
       "      <td>1957</td>\n",
       "      <td>https://m.media-amazon.com/images/M/MV5BMWU4N2...</td>\n",
       "      <td>Sidney Lumet (dir.), Henry Fonda, Lee J. Cobb</td>\n",
       "      <td>8.9</td>\n",
       "      <td>743961</td>\n",
       "    </tr>\n",
       "  </tbody>\n",
       "</table>\n",
       "</div>"
      ],
      "text/plain": [
       "               id rank                     title  \\\n",
       "sr.No.                                             \n",
       "0       tt0111161    1  The Shawshank Redemption   \n",
       "1       tt0068646    2             The Godfather   \n",
       "2       tt0071562    3    The Godfather: Part II   \n",
       "3       tt0468569    4           The Dark Knight   \n",
       "4       tt0050083    5              12 Angry Men   \n",
       "\n",
       "                              fullTitle  year  \\\n",
       "sr.No.                                          \n",
       "0       The Shawshank Redemption (1994)  1994   \n",
       "1                  The Godfather (1972)  1972   \n",
       "2         The Godfather: Part II (1974)  1974   \n",
       "3                The Dark Knight (2008)  2008   \n",
       "4                   12 Angry Men (1957)  1957   \n",
       "\n",
       "                                                    image  \\\n",
       "sr.No.                                                      \n",
       "0       https://m.media-amazon.com/images/M/MV5BMDFkYT...   \n",
       "1       https://m.media-amazon.com/images/M/MV5BM2MyNj...   \n",
       "2       https://m.media-amazon.com/images/M/MV5BMWMwMG...   \n",
       "3       https://m.media-amazon.com/images/M/MV5BMTMxNT...   \n",
       "4       https://m.media-amazon.com/images/M/MV5BMWU4N2...   \n",
       "\n",
       "                                                     crew imDbRating  \\\n",
       "sr.No.                                                                 \n",
       "0       Frank Darabont (dir.), Tim Robbins, Morgan Fre...        9.2   \n",
       "1       Francis Ford Coppola (dir.), Marlon Brando, Al...        9.1   \n",
       "2       Francis Ford Coppola (dir.), Al Pacino, Robert...        9.0   \n",
       "3       Christopher Nolan (dir.), Christian Bale, Heat...        9.0   \n",
       "4           Sidney Lumet (dir.), Henry Fonda, Lee J. Cobb        8.9   \n",
       "\n",
       "       imDbRatingCount  \n",
       "sr.No.                  \n",
       "0              2519164  \n",
       "1              1734694  \n",
       "2              1203735  \n",
       "3              2469478  \n",
       "4               743961  "
      ]
     },
     "execution_count": 9,
     "metadata": {},
     "output_type": "execute_result"
    }
   ],
   "source": [
    "movie.head()"
   ]
  },
  {
   "cell_type": "code",
   "execution_count": 10,
   "metadata": {},
   "outputs": [
    {
     "name": "stdout",
     "output_type": "stream",
     "text": [
      "(250, 9)\n",
      "2250\n"
     ]
    }
   ],
   "source": [
    "print(movie.shape)\n",
    "print(movie.size)"
   ]
  },
  {
   "cell_type": "code",
   "execution_count": 11,
   "metadata": {},
   "outputs": [
    {
     "name": "stdout",
     "output_type": "stream",
     "text": [
      "<class 'pandas.core.frame.DataFrame'>\n",
      "Int64Index: 250 entries, 0 to 249\n",
      "Data columns (total 9 columns):\n",
      " #   Column           Non-Null Count  Dtype \n",
      "---  ------           --------------  ----- \n",
      " 0   id               250 non-null    object\n",
      " 1   rank             250 non-null    object\n",
      " 2   title            250 non-null    object\n",
      " 3   fullTitle        250 non-null    object\n",
      " 4   year             250 non-null    object\n",
      " 5   image            250 non-null    object\n",
      " 6   crew             250 non-null    object\n",
      " 7   imDbRating       250 non-null    object\n",
      " 8   imDbRatingCount  250 non-null    object\n",
      "dtypes: object(9)\n",
      "memory usage: 19.5+ KB\n"
     ]
    }
   ],
   "source": [
    "movie.info()  "
   ]
  },
  {
   "cell_type": "code",
   "execution_count": 14,
   "metadata": {},
   "outputs": [
    {
     "data": {
      "text/plain": [
       "year\n",
       "1921    1\n",
       "1924    1\n",
       "1925    1\n",
       "1926    1\n",
       "1927    1\n",
       "       ..\n",
       "2017    3\n",
       "2018    5\n",
       "2019    6\n",
       "2020    2\n",
       "2021    4\n",
       "Name: year, Length: 86, dtype: int64"
      ]
     },
     "execution_count": 14,
     "metadata": {},
     "output_type": "execute_result"
    }
   ],
   "source": [
    "# To count occurrence of all individual years in DAte columnmovie.value_counts()\n",
    "M=movie.groupby('year').year.count()\n",
    "M"
   ]
  },
  {
   "cell_type": "code",
   "execution_count": 15,
   "metadata": {},
   "outputs": [
    {
     "name": "stderr",
     "output_type": "stream",
     "text": [
      "C:\\ProgramData\\Anaconda3\\lib\\site-packages\\seaborn\\_decorators.py:36: FutureWarning: Pass the following variable as a keyword arg: x. From version 0.12, the only valid positional argument will be `data`, and passing other arguments without an explicit keyword will result in an error or misinterpretation.\n",
      "  warnings.warn(\n"
     ]
    },
    {
     "data": {
      "text/plain": [
       "<AxesSubplot:xlabel='year', ylabel='count'>"
      ]
     },
     "execution_count": 15,
     "metadata": {},
     "output_type": "execute_result"
    },
    {
     "data": {
      "image/png": "[encoded data removed]",
      "text/plain": [
       "<Figure size 864x576 with 1 Axes>"
      ]
     },
     "metadata": {
      "needs_background": "light"
     },
     "output_type": "display_data"
    }
   ],
   "source": [
    "plt.figure(figsize=(12,8))\n",
    "sns.countplot(movie['year'])"
   ]
  },
  {
   "cell_type": "code",
   "execution_count": 18,
   "metadata": {},
   "outputs": [
    {
     "name": "stderr",
     "output_type": "stream",
     "text": [
      "C:\\ProgramData\\Anaconda3\\lib\\site-packages\\seaborn\\_decorators.py:36: FutureWarning: Pass the following variable as a keyword arg: x. From version 0.12, the only valid positional argument will be `data`, and passing other arguments without an explicit keyword will result in an error or misinterpretation.\n",
      "  warnings.warn(\n"
     ]
    },
    {
     "data": {
      "text/plain": [
       "<AxesSubplot:xlabel='year', ylabel='count'>"
      ]
     },
     "execution_count": 18,
     "metadata": {},
     "output_type": "execute_result"
    },
    {
     "data": {
      "image/png": "[encoded data removed]",
      "text/plain": [
       "<Figure size 432x288 with 1 Axes>"
      ]
     },
     "metadata": {
      "needs_background": "light"
     },
     "output_type": "display_data"
    }
   ],
   "source": [
    "sns.countplot(M)"
   ]
  },
  {
   "cell_type": "code",
   "execution_count": 16,
   "metadata": {},
   "outputs": [
    {
     "data": {
      "text/plain": [
       "imDbRating\n",
       "8.0    29\n",
       "8.1    74\n",
       "8.2    44\n",
       "8.3    36\n",
       "8.4    19\n",
       "8.5    22\n",
       "8.6    11\n",
       "8.7     5\n",
       "8.8     3\n",
       "8.9     3\n",
       "9.0     2\n",
       "9.1     1\n",
       "9.2     1\n",
       "Name: imDbRating, dtype: int64"
      ]
     },
     "execution_count": 16,
     "metadata": {},
     "output_type": "execute_result"
    }
   ],
   "source": [
    "movie.groupby('imDbRating').imDbRating.count()"
   ]
  },
  {
   "cell_type": "code",
   "execution_count": 17,
   "metadata": {},
   "outputs": [
    {
     "name": "stderr",
     "output_type": "stream",
     "text": [
      "C:\\ProgramData\\Anaconda3\\lib\\site-packages\\seaborn\\_decorators.py:36: FutureWarning: Pass the following variable as a keyword arg: x. From version 0.12, the only valid positional argument will be `data`, and passing other arguments without an explicit keyword will result in an error or misinterpretation.\n",
      "  warnings.warn(\n"
     ]
    },
    {
     "data": {
      "text/plain": [
       "<AxesSubplot:xlabel='imDbRating', ylabel='count'>"
      ]
     },
     "execution_count": 17,
     "metadata": {},
     "output_type": "execute_result"
    },
    {
     "data": {
      "image/png": "[encoded data removed]",
      "text/plain": [
       "<Figure size 864x576 with 1 Axes>"
      ]
     },
     "metadata": {
      "needs_background": "light"
     },
     "output_type": "display_data"
    }
   ],
   "source": [
    "plt.figure(figsize=(12,8))\n",
    "sns.countplot(movie['imDbRating'])"
   ]
  },
  {
   "cell_type": "code",
   "execution_count": null,
   "metadata": {},
   "outputs": [],
   "source": []
  }
 ],
 "metadata": {
  "kernelspec": {
   "display_name": "Python 3",
   "language": "python",
   "name": "python3"
  },
  "language_info": {
   "codemirror_mode": {
    "name": "ipython",
    "version": 3
   },
   "file_extension": ".py",
   "mimetype": "text/x-python",
   "name": "python",
   "nbconvert_exporter": "python",
   "pygments_lexer": "ipython3",
   "version": "3.8.5"
  }
 },
 "nbformat": 4,
 "nbformat_minor": 4
}
