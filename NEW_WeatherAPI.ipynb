{
 "cells": [
  {
   "cell_type": "code",
   "execution_count": 19,
   "metadata": {},
   "outputs": [],
   "source": [
    "import requests\n",
    "import csv\n",
    "import pandas as pd"
   ]
  },
  {
   "cell_type": "code",
   "execution_count": 20,
   "metadata": {},
   "outputs": [],
   "source": [
    "api_key ='d79cb0701680d9cf9f57f15112d44c02'"
   ]
  },
  {
   "cell_type": "code",
   "execution_count": 21,
   "metadata": {},
   "outputs": [
    {
     "name": "stdout",
     "output_type": "stream",
     "text": [
      "Enter city namemumbai\n",
      "[Mumbai - 8 days forecast]\n",
      "\n",
      "Day1 (Today)\n",
      "Morning:27.61°C\n",
      "night:26.92°C\n",
      "conditions:Clear: clear sky\n",
      "\n",
      "Day2(Tomorrow)\n",
      "Morning:28.34°C\n",
      "night:27.21°C\n",
      "conditions:Clouds: few clouds\n",
      "\n",
      "Day 3\n",
      "Morning:28.57°C\n",
      "night:28.11°C\n",
      "conditions:Clear: clear sky\n",
      "\n",
      "Day 4\n",
      "Morning:28.72°C\n",
      "night:27.71°C\n",
      "conditions:Clear: clear sky\n",
      "\n",
      "Day 5\n",
      "Morning:28.94°C\n",
      "night:27.46°C\n",
      "conditions:Clouds: scattered clouds\n",
      "\n",
      "Day 6\n",
      "Morning:28.35°C\n",
      "night:27.15°C\n",
      "conditions:Clouds: broken clouds\n",
      "\n",
      "Day 7\n",
      "Morning:27.94°C\n",
      "night:26.66°C\n",
      "conditions:Clouds: broken clouds\n",
      "\n",
      "Day 8\n",
      "Morning:27.65°C\n",
      "night:26.37°C\n",
      "conditions:Clouds: overcast clouds\n",
      "\n"
     ]
    }
   ],
   "source": [
    "city_name = input(\"Enter city name\")\n",
    "\n",
    "#city's coordinates(Lat & lon)\n",
    "url=f'https://api.openweathermap.org/data/2.5/weather?q={city_name}&appid={api_key}'\n",
    "#parse the Json\n",
    "req= requests.get(url)\n",
    "data=req.json()\n",
    "\n",
    "\n",
    "\n",
    "#get the name, longitude and latitude\n",
    "name=data['name']\n",
    "lon=data['coord']['lon']\n",
    "lat=data['coord']['lat']\n",
    "\n",
    "#use the one call Api to get the 8 day forecast\n",
    "part=\"minute,hourly\"\n",
    "url2=f'https://api.openweathermap.org/data/2.5/onecall?lat={lat}&lon={lon}&exclude={part}&appid={api_key}'\n",
    "\n",
    "#parse the json\n",
    "req2=requests.get(url2)\n",
    "data2=req2.json()\n",
    "\n",
    "#print(data2)\n",
    "\n",
    "#get the temp for the day,the night and the weather conditions\n",
    "days = []\n",
    "nights=[]\n",
    "descr=[]\n",
    "\n",
    "#access 'daily'\n",
    "for i in data2['daily']:\n",
    "    #here the temperature is in kelvin,so do -273.15 for every datapoint\n",
    "    days.append(round(i['temp']['day']-273.15,2))\n",
    "    nights.append(round(i['temp']['night'] -273.15,2))\n",
    "    \n",
    "    #get the weather conditions and description\n",
    "    #'weather' [0] 'main'+ 'weather'[0] 'description'\n",
    "    descr.append(i['weather'][0]['main'] + \": \" +i['weather'][0]['description'])\n",
    "   \n",
    " #format output to makr it readable\n",
    "string=f'[{name} - 8 days forecast]\\n'\n",
    "#loop for as much  days as there are\n",
    "for i in range(len(days)):\n",
    "    \n",
    "    if i==0:\n",
    "        string+=f'\\nDay{i+1} (Today)\\n'\n",
    "    elif i==1:\n",
    "        string+=f'\\nDay{i+1}(Tomorrow)\\n'\n",
    "    else: \n",
    "        string+=f'\\nDay {i+1}\\n'\n",
    "    #now let's add that to the temperature and the weather conditions\n",
    "    string += 'Morning:'+str(days[i]) + '°C' +\"\\n\"\n",
    "    string += 'night:' +str(nights[i]) + '°C' + \"\\n\"\n",
    "    string += 'conditions:' +descr[i] + \"\\n\"\n",
    "    \n",
    "print(string)\n",
    "\n",
    "\n"
   ]
  },
  {
   "cell_type": "code",
   "execution_count": 22,
   "metadata": {},
   "outputs": [
    {
     "name": "stdout",
     "output_type": "stream",
     "text": [
      "                                                   0\n",
      "0  [Mumbai - 8 days forecast]\\n\\nDay1 (Today)\\nMo...\n"
     ]
    }
   ],
   "source": [
    "new = {string}\n",
    "df= pd.DataFrame(new)\n",
    "print(df)"
   ]
  },
  {
   "cell_type": "code",
   "execution_count": 27,
   "metadata": {},
   "outputs": [],
   "source": [
    "df.to_csv('fore2.csv',index=False,header=False)"
   ]
  },
  {
   "cell_type": "code",
   "execution_count": null,
   "metadata": {},
   "outputs": [],
   "source": []
  },
  {
   "cell_type": "code",
   "execution_count": null,
   "metadata": {},
   "outputs": [],
   "source": []
  },
  {
   "cell_type": "code",
   "execution_count": null,
   "metadata": {},
   "outputs": [],
   "source": []
  },
  {
   "cell_type": "code",
   "execution_count": null,
   "metadata": {},
   "outputs": [],
   "source": []
  },
  {
   "cell_type": "code",
   "execution_count": null,
   "metadata": {},
   "outputs": [],
   "source": []
  },
  {
   "cell_type": "code",
   "execution_count": null,
   "metadata": {},
   "outputs": [],
   "source": []
  }
 ],
 "metadata": {
  "kernelspec": {
   "display_name": "Python 3",
   "language": "python",
   "name": "python3"
  },
  "language_info": {
   "codemirror_mode": {
    "name": "ipython",
    "version": 3
   },
   "file_extension": ".py",
   "mimetype": "text/x-python",
   "name": "python",
   "nbconvert_exporter": "python",
   "pygments_lexer": "ipython3",
   "version": "3.8.5"
  }
 },
 "nbformat": 4,
 "nbformat_minor": 4
}
